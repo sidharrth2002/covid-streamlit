{
 "cells": [
  {
   "cell_type": "code",
   "execution_count": 1,
   "source": [
    "import numpy as np\n",
    "import pandas as pd\n",
    "import matplotlib.pyplot as plt\n",
    "import seaborn as sns"
   ],
   "outputs": [],
   "metadata": {}
  },
  {
   "cell_type": "code",
   "execution_count": 2,
   "source": [
    "cases_state = pd.read_csv('./data/cases_state.csv', index_col=0)\n",
    "cases_state_pivoted = cases_state.pivot(index='date', columns='state', values='cases_new')\n",
    "\n",
    "deaths_state = pd.read_csv('./data/deaths_state.csv')\n",
    "deaths_state_pivoted = deaths_state.pivot(index='date', columns='state', values='deaths_new')\n",
    "\n",
    "tests_state = pd.read_csv('./data/tests_state.csv')\n",
    "tests_state_pivoted = tests_state.pivot(index='date', columns='state', values='total')\n",
    "\n",
    "quarantine_state = pd.read_csv('./data/pkrc.csv')\n",
    "quarantine_state_pivoted = quarantine_state.pivot(index='date', columns='state', values='admitted_covid')\n",
    "discharge_quarantine_state_pivoted = quarantine_state.pivot(index='date', columns='state', values='discharge_covid')\n",
    "\n",
    "icu_state = pd.read_csv('./data/icu.csv')\n",
    "icu_state_pivoted = icu_state.pivot(index='date', columns='state', values='icu_covid')\n",
    "\n",
    "hospital = pd.read_csv('./data/hospital.csv')\n",
    "hospital_admitted_pivoted = hospital.pivot(index='date', columns='state', values='admitted_covid')\n",
    "hospital_discharged_pivoted = hospital.pivot(index='date', columns='state', values='discharged_covid')\n",
    "\n",
    "population_state = pd.read_csv('./data/population.csv', index_col=0)\n",
    "cases_state.head()"
   ],
   "outputs": [
    {
     "output_type": "execute_result",
     "data": {
      "text/html": [
       "<div>\n",
       "<style scoped>\n",
       "    .dataframe tbody tr th:only-of-type {\n",
       "        vertical-align: middle;\n",
       "    }\n",
       "\n",
       "    .dataframe tbody tr th {\n",
       "        vertical-align: top;\n",
       "    }\n",
       "\n",
       "    .dataframe thead th {\n",
       "        text-align: right;\n",
       "    }\n",
       "</style>\n",
       "<table border=\"1\" class=\"dataframe\">\n",
       "  <thead>\n",
       "    <tr style=\"text-align: right;\">\n",
       "      <th></th>\n",
       "      <th>date</th>\n",
       "      <th>state</th>\n",
       "      <th>cases_import</th>\n",
       "      <th>cases_new</th>\n",
       "      <th>cases_recovered</th>\n",
       "    </tr>\n",
       "  </thead>\n",
       "  <tbody>\n",
       "    <tr>\n",
       "      <th>0</th>\n",
       "      <td>2020-01-25</td>\n",
       "      <td>Johor</td>\n",
       "      <td>4</td>\n",
       "      <td>4</td>\n",
       "      <td>0</td>\n",
       "    </tr>\n",
       "    <tr>\n",
       "      <th>1</th>\n",
       "      <td>2020-01-25</td>\n",
       "      <td>Kedah</td>\n",
       "      <td>0</td>\n",
       "      <td>0</td>\n",
       "      <td>0</td>\n",
       "    </tr>\n",
       "    <tr>\n",
       "      <th>2</th>\n",
       "      <td>2020-01-25</td>\n",
       "      <td>Kelantan</td>\n",
       "      <td>0</td>\n",
       "      <td>0</td>\n",
       "      <td>0</td>\n",
       "    </tr>\n",
       "    <tr>\n",
       "      <th>3</th>\n",
       "      <td>2020-01-25</td>\n",
       "      <td>Melaka</td>\n",
       "      <td>0</td>\n",
       "      <td>0</td>\n",
       "      <td>0</td>\n",
       "    </tr>\n",
       "    <tr>\n",
       "      <th>4</th>\n",
       "      <td>2020-01-25</td>\n",
       "      <td>Negeri Sembilan</td>\n",
       "      <td>0</td>\n",
       "      <td>0</td>\n",
       "      <td>0</td>\n",
       "    </tr>\n",
       "  </tbody>\n",
       "</table>\n",
       "</div>"
      ],
      "text/plain": [
       "         date            state  cases_import  cases_new  cases_recovered\n",
       "0  2020-01-25            Johor             4          4                0\n",
       "1  2020-01-25            Kedah             0          0                0\n",
       "2  2020-01-25         Kelantan             0          0                0\n",
       "3  2020-01-25           Melaka             0          0                0\n",
       "4  2020-01-25  Negeri Sembilan             0          0                0"
      ]
     },
     "metadata": {},
     "execution_count": 2
    }
   ],
   "metadata": {}
  },
  {
   "cell_type": "code",
   "execution_count": 3,
   "source": [
    "states_list = ['Pahang', 'Kedah', 'Johor', 'Selangor']\n",
    "states = {}\n",
    "\n",
    "for state in states_list:\n",
    "    df = pd.DataFrame()\n",
    "    df['cases'] = cases_state_pivoted[state]\n",
    "    df['deaths'] = deaths_state_pivoted[state]\n",
    "    df['tests'] = tests_state_pivoted[state]\n",
    "    df['quarantine'] = quarantine_state_pivoted[state]\n",
    "    df['discharge_quarantine'] = discharge_quarantine_state_pivoted[state]\n",
    "    df['icu'] = icu_state_pivoted[state]\n",
    "    df['hospital_admitted'] = hospital_admitted_pivoted[state]\n",
    "    df['hospital_discharged'] = hospital_discharged_pivoted[state]\n",
    "    df.fillna(0, inplace=True)\n",
    "    states[state] = df"
   ],
   "outputs": [],
   "metadata": {}
  },
  {
   "cell_type": "markdown",
   "source": [
    "## Finding Best Features\n",
    "\n",
    "Techniques Used:\n",
    "1. Variance Threshold\n",
    "2. SelectKBest with Mutual Info Regression\n",
    "3. SelectKBest with Chi-Squared\n",
    "4. Recursive Feature Elimination"
   ],
   "metadata": {}
  },
  {
   "cell_type": "code",
   "execution_count": 35,
   "source": [
    "from sklearn.feature_selection import SelectKBest, chi2, mutual_info_regression, RFE, VarianceThreshold\n",
    "from sklearn.linear_model import LinearRegression\n",
    "\n",
    "def get_best_features(df):\n",
    "    X = df.drop(['cases'], axis=1)\n",
    "    y = df['cases']\n",
    "\n",
    "    selector = VarianceThreshold(3)\n",
    "    selector.fit(df)\n",
    "    variance_best = df.columns[selector.get_support()]\n",
    "\n",
    "    selector = SelectKBest(mutual_info_regression, k=4)\n",
    "    selector.fit(X, y)\n",
    "    mutual_info_best = X.columns[selector.get_support()]\n",
    "\n",
    "    selector = SelectKBest(chi2, k=4)\n",
    "    selector.fit(X, y)\n",
    "    chi2_best = X.columns[selector.get_support()]\n",
    "\n",
    "    rfe_selector = RFE(LinearRegression(), n_features_to_select=4)\n",
    "    rfe_selector.fit(X, y)\n",
    "    rfe_best = X.columns[rfe_selector.get_support()]\n",
    "\n",
    "    columns = df.columns\n",
    "    columns_count = {}\n",
    "    for column in columns:\n",
    "        columns_count[column] = list(variance_best).count(column) + list(mutual_info_best).count(column) + list(chi2_best).count(column) + list(rfe_best).count(column)\n",
    "    \n",
    "    best_features = sorted(columns_count, key=columns_count.get)[-4:]\n",
    "\n",
    "    for num in range(len(best_features) - 1):\n",
    "        x = num + 1\n",
    "        for num2 in range(len(best_features) - num - 1):\n",
    "            sns.scatterplot(x= best_features[num], y=best_features[x], data=df)\n",
    "            plt.xlabel('Features')\n",
    "            plt.ylabel('Cases')\n",
    "            x = x + 1\n",
    "\n",
    "    if 'tests' not in best_features:\n",
    "        best_features.append('tests')\n",
    "\n",
    "    return best_features"
   ],
   "outputs": [],
   "metadata": {}
  },
  {
   "cell_type": "code",
   "execution_count": 36,
   "source": [
    "get_best_features(states['Pahang'])"
   ],
   "outputs": [
    {
     "output_type": "execute_result",
     "data": {
      "text/plain": [
       "['quarantine', 'discharge_quarantine', 'icu', 'hospital_admitted', 'tests']"
      ]
     },
     "metadata": {},
     "execution_count": 36
    },
    {
     "output_type": "display_data",
     "data": {
      "image/png": "[encoded data removed]",
      "text/plain": [
       "<Figure size 432x288 with 1 Axes>"
      ]
     },
     "metadata": {
      "needs_background": "light"
     }
    }
   ],
   "metadata": {}
  },
  {
   "cell_type": "markdown",
   "source": [
    "## Modeling\n",
    "Classification:\n",
    "1. Support Vector Machine\n",
    "2. Decision Tree\n",
    "3. Random Forest Classifier\n",
    "\n",
    "Regression:\n",
    "1. Support Vector Machine\n",
    "2. Linear Regression\n",
    "3. Random Forest Regressor"
   ],
   "metadata": {}
  },
  {
   "cell_type": "code",
   "execution_count": 6,
   "source": [
    "from sklearn.svm import SVR, SVC\n",
    "from sklearn.model_selection import train_test_split\n",
    "from sklearn.tree import DecisionTreeClassifier, DecisionTreeRegressor\n",
    "from sklearn.ensemble import RandomForestClassifier, RandomForestRegressor"
   ],
   "outputs": [],
   "metadata": {}
  },
  {
   "cell_type": "markdown",
   "source": [
    "## Regression"
   ],
   "metadata": {}
  },
  {
   "cell_type": "code",
   "execution_count": 9,
   "source": [
    "def svm_regression(df, features):\n",
    "    X = df[features]\n",
    "    y = df['cases']\n",
    "    X_train, X_test, y_train, y_test = train_test_split(X, y, test_size=0.2, random_state=42, shuffle=True)\n",
    "\n",
    "    svr_rbf = SVR(kernel='rbf', C=1e5, gamma=0.001)\n",
    "    svr_rbf.fit(X_train, y_train)\n",
    "    svr_rbf_pred = svr_rbf.predict(X_test)\n",
    "\n",
    "    svr_rbf_score = svr_rbf.score(X_test, y_test)\n",
    "\n",
    "    print('SVR RBF Score: ', svr_rbf_score)"
   ],
   "outputs": [],
   "metadata": {}
  },
  {
   "cell_type": "code",
   "execution_count": 19,
   "source": [
    "def linear_regression(df, features):\n",
    "    X = df[features]\n",
    "    y = df['cases']\n",
    "    X_train, X_test, y_train, y_test = train_test_split(X, y, test_size=0.2, random_state=42, shuffle=True)\n",
    "\n",
    "    lin_reg = LinearRegression()\n",
    "    lin_reg.fit(X_train, y_train)\n",
    "    lin_reg_pred = lin_reg.predict(X_test)\n",
    "\n",
    "    lin_reg_score = lin_reg.score(X_test, y_test)\n",
    "\n",
    "    print('Linear Regression Score: ', lin_reg_score)"
   ],
   "outputs": [],
   "metadata": {}
  },
  {
   "cell_type": "code",
   "execution_count": 21,
   "source": [
    "def random_forest_regressor(df, features):\n",
    "    X = df[features]\n",
    "    y = df['cases']\n",
    "    X_train, X_test, y_train, y_test = train_test_split(X, y, test_size=0.2, random_state=42, shuffle=True)\n",
    "\n",
    "    rf_reg = RandomForestRegressor(n_estimators=10, random_state=42)\n",
    "    rf_reg.fit(X_train, y_train)\n",
    "    rf_reg_pred = rf_reg.predict(X_test)\n",
    "\n",
    "    rf_reg_score = rf_reg.score(X_test, y_test)\n",
    "\n",
    "    print('Random Forest Regressor Score: ', rf_reg_score)"
   ],
   "outputs": [],
   "metadata": {}
  },
  {
   "cell_type": "code",
   "execution_count": 22,
   "source": [
    "svm_regression(states['Pahang'], get_best_features(states['Pahang']) + ['tests'])\n",
    "linear_regression(states['Pahang'], get_best_features(states['Pahang']) + ['tests'])\n",
    "random_forest_regressor(states['Pahang'], get_best_features(states['Pahang']) + ['tests'])"
   ],
   "outputs": [
    {
     "output_type": "stream",
     "name": "stdout",
     "text": [
      "SVR RBF Score:  0.750470119296011\n",
      "Linear Regression Score:  0.8269142563006484\n",
      "Random Forest Regressor Score:  0.8831368193309622\n"
     ]
    },
    {
     "output_type": "display_data",
     "data": {
      "image/png": "[encoded data removed]",
      "text/plain": [
       "<Figure size 432x288 with 1 Axes>"
      ]
     },
     "metadata": {
      "needs_background": "light"
     }
    }
   ],
   "metadata": {}
  },
  {
   "cell_type": "markdown",
   "source": [
    "## Classification"
   ],
   "metadata": {}
  },
  {
   "cell_type": "code",
   "execution_count": null,
   "source": [
    "def svm_classification():\n",
    "    "
   ],
   "outputs": [],
   "metadata": {}
  }
 ],
 "metadata": {
  "orig_nbformat": 4,
  "language_info": {
   "name": "python",
   "version": "3.8.2",
   "mimetype": "text/x-python",
   "codemirror_mode": {
    "name": "ipython",
    "version": 3
   },
   "pygments_lexer": "ipython3",
   "nbconvert_exporter": "python",
   "file_extension": ".py"
  },
  "kernelspec": {
   "name": "python3",
   "display_name": "Python 3.8.2 64-bit ('multitask-bert': virtualenv)"
  },
  "interpreter": {
   "hash": "d40647c30ad385b3381cf3575813e29f9a949d247d9c135d65e65efb68edbeaa"
  }
 },
 "nbformat": 4,
 "nbformat_minor": 2
}